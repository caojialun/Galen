{
  "nbformat": 4,
  "nbformat_minor": 0,
  "metadata": {
    "colab": {
      "name": "Bitcoin_LSTM.ipynb",
      "provenance": [],
      "collapsed_sections": [],
      "authorship_tag": "ABX9TyPRnN1aD0ZZeP7zmBi533Uo",
      "include_colab_link": true
    },
    "kernelspec": {
      "name": "python3",
      "display_name": "Python 3"
    },
    "language_info": {
      "name": "python"
    }
  },
  "cells": [
    {
      "cell_type": "markdown",
      "metadata": {
        "id": "view-in-github",
        "colab_type": "text"
      },
      "source": [
        "<a href=\"https://colab.research.google.com/github/caojialun/Galen/blob/master/Bitcoin_LSTM.ipynb\" target=\"_parent\"><img src=\"https://colab.research.google.com/assets/colab-badge.svg\" alt=\"Open In Colab\"/></a>"
      ]
    },
    {
      "cell_type": "markdown",
      "metadata": {
        "id": "j65U1q9Or_Xr"
      },
      "source": [
        "\n",
        "\n",
        "0.   Initialization\n",
        "\n",
        "\n"
      ]
    },
    {
      "cell_type": "code",
      "metadata": {
        "colab": {
          "base_uri": "https://localhost:8080/",
          "height": 17
        },
        "id": "C7tOKYlQr-uD",
        "outputId": "16b0409c-1870-4f8a-c0b1-8e7caa46873a"
      },
      "source": [
        "from math import sqrt\n",
        "from numpy import concatenate\n",
        "import matplotlib.pyplot as plt\n",
        "import pandas as pd\n",
        "from datetime import datetime\n",
        "from sklearn.preprocessing import MinMaxScaler\n",
        "from sklearn.preprocessing import LabelEncoder\n",
        "from sklearn.metrics import mean_squared_error\n",
        "from keras.models import Sequential\n",
        "from keras.layers import Dense\n",
        "from keras.layers import LSTM\n",
        "import plotly.offline as py\n",
        "import plotly.graph_objs as go\n",
        "import numpy as np\n",
        "import seaborn as sns\n",
        "py.init_notebook_mode(connected=True)\n",
        "%matplotlib inline"
      ],
      "execution_count": 128,
      "outputs": [
        {
          "output_type": "display_data",
          "data": {
            "text/html": [
              "        <script type=\"text/javascript\">\n",
              "        window.PlotlyConfig = {MathJaxConfig: 'local'};\n",
              "        if (window.MathJax) {MathJax.Hub.Config({SVG: {font: \"STIX-Web\"}});}\n",
              "        if (typeof require !== 'undefined') {\n",
              "        require.undef(\"plotly\");\n",
              "        requirejs.config({\n",
              "            paths: {\n",
              "                'plotly': ['https://cdn.plot.ly/plotly-latest.min']\n",
              "            }\n",
              "        });\n",
              "        require(['plotly'], function(Plotly) {\n",
              "            window._Plotly = Plotly;\n",
              "        });\n",
              "        }\n",
              "        </script>\n",
              "        "
            ]
          },
          "metadata": {
            "tags": []
          }
        }
      ]
    },
    {
      "cell_type": "markdown",
      "metadata": {
        "id": "J2Tl3IYeryId"
      },
      "source": [
        "\n",
        "\n",
        "1.   Load and clean data\n",
        "\n",
        "\n",
        "\n"
      ]
    },
    {
      "cell_type": "code",
      "metadata": {
        "id": "yx7hxivblOMs"
      },
      "source": [
        "data = pd.read_csv(filepath_or_buffer=\"/content/bitcoin_price_Training - Training.csv\", index_col=\"Date\")"
      ],
      "execution_count": 129,
      "outputs": []
    },
    {
      "cell_type": "code",
      "metadata": {
        "colab": {
          "base_uri": "https://localhost:8080/",
          "height": 235
        },
        "id": "JqQzlO8Bm4k2",
        "outputId": "ca919f59-6ec2-4bea-acdf-fe4e92548174"
      },
      "source": [
        "data.head()"
      ],
      "execution_count": 130,
      "outputs": [
        {
          "output_type": "execute_result",
          "data": {
            "text/html": [
              "<div>\n",
              "<style scoped>\n",
              "    .dataframe tbody tr th:only-of-type {\n",
              "        vertical-align: middle;\n",
              "    }\n",
              "\n",
              "    .dataframe tbody tr th {\n",
              "        vertical-align: top;\n",
              "    }\n",
              "\n",
              "    .dataframe thead th {\n",
              "        text-align: right;\n",
              "    }\n",
              "</style>\n",
              "<table border=\"1\" class=\"dataframe\">\n",
              "  <thead>\n",
              "    <tr style=\"text-align: right;\">\n",
              "      <th></th>\n",
              "      <th>Open</th>\n",
              "      <th>High</th>\n",
              "      <th>Low</th>\n",
              "      <th>Close</th>\n",
              "      <th>Volume</th>\n",
              "      <th>Market Cap</th>\n",
              "    </tr>\n",
              "    <tr>\n",
              "      <th>Date</th>\n",
              "      <th></th>\n",
              "      <th></th>\n",
              "      <th></th>\n",
              "      <th></th>\n",
              "      <th></th>\n",
              "      <th></th>\n",
              "    </tr>\n",
              "  </thead>\n",
              "  <tbody>\n",
              "    <tr>\n",
              "      <th>Jul 31, 2017</th>\n",
              "      <td>2763.24</td>\n",
              "      <td>2889.62</td>\n",
              "      <td>2720.61</td>\n",
              "      <td>2875.34</td>\n",
              "      <td>860,575,000</td>\n",
              "      <td>45,535,800,000</td>\n",
              "    </tr>\n",
              "    <tr>\n",
              "      <th>Jul 30, 2017</th>\n",
              "      <td>2724.39</td>\n",
              "      <td>2758.53</td>\n",
              "      <td>2644.85</td>\n",
              "      <td>2757.18</td>\n",
              "      <td>705,943,000</td>\n",
              "      <td>44,890,700,000</td>\n",
              "    </tr>\n",
              "    <tr>\n",
              "      <th>Jul 29, 2017</th>\n",
              "      <td>2807.02</td>\n",
              "      <td>2808.76</td>\n",
              "      <td>2692.80</td>\n",
              "      <td>2726.45</td>\n",
              "      <td>803,746,000</td>\n",
              "      <td>46,246,700,000</td>\n",
              "    </tr>\n",
              "    <tr>\n",
              "      <th>Jul 28, 2017</th>\n",
              "      <td>2679.73</td>\n",
              "      <td>2897.45</td>\n",
              "      <td>2679.73</td>\n",
              "      <td>2809.01</td>\n",
              "      <td>1,380,100,000</td>\n",
              "      <td>44,144,400,000</td>\n",
              "    </tr>\n",
              "    <tr>\n",
              "      <th>Jul 27, 2017</th>\n",
              "      <td>2538.71</td>\n",
              "      <td>2693.32</td>\n",
              "      <td>2529.34</td>\n",
              "      <td>2671.78</td>\n",
              "      <td>789,104,000</td>\n",
              "      <td>41,816,500,000</td>\n",
              "    </tr>\n",
              "  </tbody>\n",
              "</table>\n",
              "</div>"
            ],
            "text/plain": [
              "                 Open     High      Low    Close         Volume      Market Cap\n",
              "Date                                                                           \n",
              "Jul 31, 2017  2763.24  2889.62  2720.61  2875.34    860,575,000  45,535,800,000\n",
              "Jul 30, 2017  2724.39  2758.53  2644.85  2757.18    705,943,000  44,890,700,000\n",
              "Jul 29, 2017  2807.02  2808.76  2692.80  2726.45    803,746,000  46,246,700,000\n",
              "Jul 28, 2017  2679.73  2897.45  2679.73  2809.01  1,380,100,000  44,144,400,000\n",
              "Jul 27, 2017  2538.71  2693.32  2529.34  2671.78    789,104,000  41,816,500,000"
            ]
          },
          "metadata": {
            "tags": []
          },
          "execution_count": 130
        }
      ]
    },
    {
      "cell_type": "code",
      "metadata": {
        "colab": {
          "base_uri": "https://localhost:8080/",
          "height": 235
        },
        "id": "0qREak9Rn4RL",
        "outputId": "57bb51e3-f09b-41c5-e15e-73d25d1e2d3c"
      },
      "source": [
        "data.tail()"
      ],
      "execution_count": 131,
      "outputs": [
        {
          "output_type": "execute_result",
          "data": {
            "text/html": [
              "<div>\n",
              "<style scoped>\n",
              "    .dataframe tbody tr th:only-of-type {\n",
              "        vertical-align: middle;\n",
              "    }\n",
              "\n",
              "    .dataframe tbody tr th {\n",
              "        vertical-align: top;\n",
              "    }\n",
              "\n",
              "    .dataframe thead th {\n",
              "        text-align: right;\n",
              "    }\n",
              "</style>\n",
              "<table border=\"1\" class=\"dataframe\">\n",
              "  <thead>\n",
              "    <tr style=\"text-align: right;\">\n",
              "      <th></th>\n",
              "      <th>Open</th>\n",
              "      <th>High</th>\n",
              "      <th>Low</th>\n",
              "      <th>Close</th>\n",
              "      <th>Volume</th>\n",
              "      <th>Market Cap</th>\n",
              "    </tr>\n",
              "    <tr>\n",
              "      <th>Date</th>\n",
              "      <th></th>\n",
              "      <th></th>\n",
              "      <th></th>\n",
              "      <th></th>\n",
              "      <th></th>\n",
              "      <th></th>\n",
              "    </tr>\n",
              "  </thead>\n",
              "  <tbody>\n",
              "    <tr>\n",
              "      <th>May 02, 2013</th>\n",
              "      <td>116.38</td>\n",
              "      <td>125.60</td>\n",
              "      <td>92.28</td>\n",
              "      <td>105.21</td>\n",
              "      <td>-</td>\n",
              "      <td>1,292,190,000</td>\n",
              "    </tr>\n",
              "    <tr>\n",
              "      <th>May 01, 2013</th>\n",
              "      <td>139.00</td>\n",
              "      <td>139.89</td>\n",
              "      <td>107.72</td>\n",
              "      <td>116.99</td>\n",
              "      <td>-</td>\n",
              "      <td>1,542,820,000</td>\n",
              "    </tr>\n",
              "    <tr>\n",
              "      <th>Apr 30, 2013</th>\n",
              "      <td>144.00</td>\n",
              "      <td>146.93</td>\n",
              "      <td>134.05</td>\n",
              "      <td>139.00</td>\n",
              "      <td>-</td>\n",
              "      <td>1,597,780,000</td>\n",
              "    </tr>\n",
              "    <tr>\n",
              "      <th>Apr 29, 2013</th>\n",
              "      <td>134.44</td>\n",
              "      <td>147.49</td>\n",
              "      <td>134.00</td>\n",
              "      <td>144.54</td>\n",
              "      <td>-</td>\n",
              "      <td>1,491,160,000</td>\n",
              "    </tr>\n",
              "    <tr>\n",
              "      <th>Apr 28, 2013</th>\n",
              "      <td>135.30</td>\n",
              "      <td>135.98</td>\n",
              "      <td>132.10</td>\n",
              "      <td>134.21</td>\n",
              "      <td>-</td>\n",
              "      <td>1,500,520,000</td>\n",
              "    </tr>\n",
              "  </tbody>\n",
              "</table>\n",
              "</div>"
            ],
            "text/plain": [
              "                Open    High     Low   Close Volume     Market Cap\n",
              "Date                                                              \n",
              "May 02, 2013  116.38  125.60   92.28  105.21      -  1,292,190,000\n",
              "May 01, 2013  139.00  139.89  107.72  116.99      -  1,542,820,000\n",
              "Apr 30, 2013  144.00  146.93  134.05  139.00      -  1,597,780,000\n",
              "Apr 29, 2013  134.44  147.49  134.00  144.54      -  1,491,160,000\n",
              "Apr 28, 2013  135.30  135.98  132.10  134.21      -  1,500,520,000"
            ]
          },
          "metadata": {
            "tags": []
          },
          "execution_count": 131
        }
      ]
    },
    {
      "cell_type": "markdown",
      "metadata": {
        "id": "po5MLdKMJob4"
      },
      "source": [
        "\n",
        "\n",
        "1.1   Choose the feature through the heatmap\n",
        "\n"
      ]
    },
    {
      "cell_type": "code",
      "metadata": {
        "colab": {
          "base_uri": "https://localhost:8080/",
          "height": 287
        },
        "id": "RPhV8B8UHupl",
        "outputId": "e8270742-3c9e-4e9d-de48-0a78e9ea67ff"
      },
      "source": [
        "sns.heatmap(data.corr(), annot=True, cmap='RdYlGn', linewidths=0.1, vmin=0)"
      ],
      "execution_count": 132,
      "outputs": [
        {
          "output_type": "execute_result",
          "data": {
            "text/plain": [
              "<matplotlib.axes._subplots.AxesSubplot at 0x7f8dc8bd2f10>"
            ]
          },
          "metadata": {
            "tags": []
          },
          "execution_count": 132
        },
        {
          "output_type": "display_data",
          "data": {
            "image/png": "[encoded data removed]",
            "text/plain": [
              "<Figure size 432x288 with 2 Axes>"
            ]
          },
          "metadata": {
            "tags": [],
            "needs_background": "light"
          }
        }
      ]
    },
    {
      "cell_type": "markdown",
      "metadata": {
        "id": "4bASFESYKCIQ"
      },
      "source": [
        "\n",
        "\n",
        "1.2   Using scatter to show the \"Close\" data\n",
        "\n"
      ]
    },
    {
      "cell_type": "code",
      "metadata": {
        "cellView": "code",
        "id": "l_dxIaytoHbr"
      },
      "source": [
        "btc_trace = go.Scatter(x=data.index, y=data['Close'], name='Price')\n",
        "py.iplot([btc_trace])"
      ],
      "execution_count": null,
      "outputs": []
    },
    {
      "cell_type": "markdown",
      "metadata": {
        "id": "Q6dT_7WktBfg"
      },
      "source": [
        "![1.png](data:image/png;base64,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)"
      ]
    },
    {
      "cell_type": "markdown",
      "metadata": {
        "id": "uyKoba5rKJcK"
      },
      "source": [
        "1.3 Using \"ffill\" to fill the value that is 0"
      ]
    },
    {
      "cell_type": "code",
      "metadata": {
        "id": "fUDrJxHXsiNl"
      },
      "source": [
        "data['Close'].replace(0, np.nan, inplace=True)\n",
        "data['Close'].fillna(method='ffill', inplace=True)"
      ],
      "execution_count": 134,
      "outputs": []
    },
    {
      "cell_type": "markdown",
      "metadata": {
        "id": "Upgc9wI3XSog"
      },
      "source": [
        "1.4 Show the figure after filling"
      ]
    },
    {
      "cell_type": "code",
      "metadata": {
        "id": "lX1-0GU-srmG"
      },
      "source": [
        "btc_trace = go.Scatter(x=data.index, y=data['Close'], name='Price')\n",
        "py.iplot([btc_trace])"
      ],
      "execution_count": null,
      "outputs": []
    },
    {
      "cell_type": "markdown",
      "metadata": {
        "id": "jzkfUb6NyBVP"
      },
      "source": [
        "![2.jpg](data:image/jpeg;base64,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)"
      ]
    },
    {
      "cell_type": "markdown",
      "metadata": {
        "id": "33Kp5BL3ySMc"
      },
      "source": [
        "\n",
        "\n",
        "\n",
        "2.   LSTM\n",
        "\n"
      ]
    },
    {
      "cell_type": "markdown",
      "metadata": {
        "id": "L1sdorL4yWGt"
      },
      "source": [
        "\n",
        "\n",
        "\n",
        "2.1   Normalization\n",
        "\n"
      ]
    },
    {
      "cell_type": "code",
      "metadata": {
        "id": "f3tHd62_yFeI"
      },
      "source": [
        "from sklearn.preprocessing import MinMaxScaler\n",
        "values = data['Close'].values.reshape(-1,1)\n",
        "value_norm = MinMaxScaler(feature_range=(0, 1)).fit_transform(values)"
      ],
      "execution_count": 136,
      "outputs": []
    },
    {
      "cell_type": "code",
      "metadata": {
        "colab": {
          "base_uri": "https://localhost:8080/"
        },
        "id": "-BsHn4bEy-eh",
        "outputId": "bc6294b0-bfe8-428b-80cb-416e5cda38ac"
      },
      "source": [
        "value_norm"
      ],
      "execution_count": 137,
      "outputs": [
        {
          "output_type": "execute_result",
          "data": {
            "text/plain": [
              "array([[0.97135669],\n",
              "       [0.93046635],\n",
              "       [0.91983195],\n",
              "       ...,\n",
              "       [0.02442139],\n",
              "       [0.02633856],\n",
              "       [0.02276377]])"
            ]
          },
          "metadata": {
            "tags": []
          },
          "execution_count": 137
        }
      ]
    },
    {
      "cell_type": "markdown",
      "metadata": {
        "id": "axIaoiZlXhaI"
      },
      "source": [
        "2.2 Split the train and test set"
      ]
    },
    {
      "cell_type": "code",
      "metadata": {
        "colab": {
          "base_uri": "https://localhost:8080/"
        },
        "id": "Jm3DPYsU2BcH",
        "outputId": "a427e4b4-cef2-4af6-e69e-e0d6b2f6bc8a"
      },
      "source": [
        "train_size = int(len(value_norm) * 0.7)\n",
        "test_size = len(value_norm) - train_size\n",
        "train, test = value_norm[0:train_size], value_norm[train_size:]\n",
        "print(len(train),len(test))"
      ],
      "execution_count": 138,
      "outputs": [
        {
          "output_type": "stream",
          "text": [
            "1089 467\n"
          ],
          "name": "stdout"
        }
      ]
    },
    {
      "cell_type": "code",
      "metadata": {
        "id": "wgUMOa9d2mEv"
      },
      "source": [
        "def create_dataset(dataset, look_back=1):\n",
        "\n",
        "  dataX, dataY = [], []\n",
        "  for i in range(len(dataset) - look_back):\n",
        "      a = dataset[i:(i+look_back), 0]\n",
        "      dataX.append(a)\n",
        "      dataY.append(dataset[i+look_back, 0])\n",
        "  print(len(dataX),len(dataY))\n",
        "  return np.array(dataX), np.array(dataY)"
      ],
      "execution_count": 139,
      "outputs": []
    },
    {
      "cell_type": "code",
      "metadata": {
        "colab": {
          "base_uri": "https://localhost:8080/"
        },
        "id": "OfVFf0Ly7q1P",
        "outputId": "c718a336-1b48-4c94-f08c-c2641c1ce9c8"
      },
      "source": [
        "trainX, trainY = create_dataset(train)\n",
        "testX, testY = create_dataset(test)"
      ],
      "execution_count": 140,
      "outputs": [
        {
          "output_type": "stream",
          "text": [
            "1088 1088\n",
            "466 466\n"
          ],
          "name": "stdout"
        }
      ]
    },
    {
      "cell_type": "code",
      "metadata": {
        "colab": {
          "base_uri": "https://localhost:8080/"
        },
        "id": "NZvBXNQSD4OP",
        "outputId": "d7072e7f-d32b-4872-a6c6-3748d7e5433a"
      },
      "source": [
        "trainX = np.reshape(trainX, (trainX.shape[0], 1, trainX.shape[1]))\n",
        "testX = np.reshape(testX, (testX.shape[0], 1, testX.shape[1]))\n",
        "\n",
        "print(trainX.shape)\n",
        "print(testX.shape)"
      ],
      "execution_count": 141,
      "outputs": [
        {
          "output_type": "stream",
          "text": [
            "(1088, 1, 1)\n",
            "(466, 1, 1)\n"
          ],
          "name": "stdout"
        }
      ]
    },
    {
      "cell_type": "markdown",
      "metadata": {
        "id": "Aqav8aneXnhc"
      },
      "source": [
        "2.3 Modeling\n"
      ]
    },
    {
      "cell_type": "code",
      "metadata": {
        "colab": {
          "base_uri": "https://localhost:8080/"
        },
        "id": "738QNx3IEGbk",
        "outputId": "7630d774-adcb-4747-de15-defe6c7382ec"
      },
      "source": [
        "# Initialise the sequential model\n",
        "model = Sequential()\n",
        "# Add the LSTM hidden layer with 100 units\n",
        "model.add(LSTM(100, input_shape=(trainX.shape[1], trainX.shape[2])))\n",
        "# Add the output layer\n",
        "model.add(Dense(1))\n",
        "# Compile the model with Mean Absolute Error as the loss factor and ADAM as the optimiser\n",
        "model.compile(loss='mae', optimizer='adam')\n",
        "# Fit the model using the training and testing data\n",
        "history = model.fit(trainX, trainY, epochs=200, batch_size=100, validation_data=(testX, testY), verbose=1, shuffle=False)"
      ],
      "execution_count": 142,
      "outputs": [
        {
          "output_type": "stream",
          "text": [
            "Epoch 1/200\n",
            "11/11 [==============================] - 2s 52ms/step - loss: 0.3333 - val_loss: 0.0961\n",
            "Epoch 2/200\n",
            "11/11 [==============================] - 0s 4ms/step - loss: 0.2788 - val_loss: 0.0856\n",
            "Epoch 3/200\n",
            "11/11 [==============================] - 0s 4ms/step - loss: 0.2409 - val_loss: 0.0787\n",
            "Epoch 4/200\n",
            "11/11 [==============================] - 0s 5ms/step - loss: 0.2159 - val_loss: 0.0756\n",
            "Epoch 5/200\n",
            "11/11 [==============================] - 0s 4ms/step - loss: 0.2039 - val_loss: 0.0738\n",
            "Epoch 6/200\n",
            "11/11 [==============================] - 0s 4ms/step - loss: 0.1982 - val_loss: 0.0721\n",
            "Epoch 7/200\n",
            "11/11 [==============================] - 0s 5ms/step - loss: 0.1951 - val_loss: 0.0706\n",
            "Epoch 8/200\n",
            "11/11 [==============================] - 0s 4ms/step - loss: 0.1916 - val_loss: 0.0689\n",
            "Epoch 9/200\n",
            "11/11 [==============================] - 0s 4ms/step - loss: 0.1869 - val_loss: 0.0670\n",
            "Epoch 10/200\n",
            "11/11 [==============================] - 0s 6ms/step - loss: 0.1814 - val_loss: 0.0649\n",
            "Epoch 11/200\n",
            "11/11 [==============================] - 0s 6ms/step - loss: 0.1754 - val_loss: 0.0629\n",
            "Epoch 12/200\n",
            "11/11 [==============================] - 0s 7ms/step - loss: 0.1694 - val_loss: 0.0608\n",
            "Epoch 13/200\n",
            "11/11 [==============================] - 0s 5ms/step - loss: 0.1634 - val_loss: 0.0587\n",
            "Epoch 14/200\n",
            "11/11 [==============================] - 0s 5ms/step - loss: 0.1572 - val_loss: 0.0565\n",
            "Epoch 15/200\n",
            "11/11 [==============================] - 0s 6ms/step - loss: 0.1507 - val_loss: 0.0542\n",
            "Epoch 16/200\n",
            "11/11 [==============================] - 0s 7ms/step - loss: 0.1439 - val_loss: 0.0517\n",
            "Epoch 17/200\n",
            "11/11 [==============================] - 0s 5ms/step - loss: 0.1367 - val_loss: 0.0491\n",
            "Epoch 18/200\n",
            "11/11 [==============================] - 0s 6ms/step - loss: 0.1291 - val_loss: 0.0464\n",
            "Epoch 19/200\n",
            "11/11 [==============================] - 0s 5ms/step - loss: 0.1210 - val_loss: 0.0435\n",
            "Epoch 20/200\n",
            "11/11 [==============================] - 0s 6ms/step - loss: 0.1125 - val_loss: 0.0405\n",
            "Epoch 21/200\n",
            "11/11 [==============================] - 0s 6ms/step - loss: 0.1034 - val_loss: 0.0373\n",
            "Epoch 22/200\n",
            "11/11 [==============================] - 0s 6ms/step - loss: 0.0937 - val_loss: 0.0338\n",
            "Epoch 23/200\n",
            "11/11 [==============================] - 0s 5ms/step - loss: 0.0832 - val_loss: 0.0301\n",
            "Epoch 24/200\n",
            "11/11 [==============================] - 0s 7ms/step - loss: 0.0720 - val_loss: 0.0263\n",
            "Epoch 25/200\n",
            "11/11 [==============================] - 0s 4ms/step - loss: 0.0601 - val_loss: 0.0223\n",
            "Epoch 26/200\n",
            "11/11 [==============================] - 0s 4ms/step - loss: 0.0481 - val_loss: 0.0181\n",
            "Epoch 27/200\n",
            "11/11 [==============================] - 0s 5ms/step - loss: 0.0351 - val_loss: 0.0138\n",
            "Epoch 28/200\n",
            "11/11 [==============================] - 0s 5ms/step - loss: 0.0218 - val_loss: 0.0098\n",
            "Epoch 29/200\n",
            "11/11 [==============================] - 0s 4ms/step - loss: 0.0146 - val_loss: 0.0077\n",
            "Epoch 30/200\n",
            "11/11 [==============================] - 0s 5ms/step - loss: 0.0142 - val_loss: 0.0069\n",
            "Epoch 31/200\n",
            "11/11 [==============================] - 0s 5ms/step - loss: 0.0150 - val_loss: 0.0069\n",
            "Epoch 32/200\n",
            "11/11 [==============================] - 0s 5ms/step - loss: 0.0150 - val_loss: 0.0071\n",
            "Epoch 33/200\n",
            "11/11 [==============================] - 0s 4ms/step - loss: 0.0144 - val_loss: 0.0072\n",
            "Epoch 34/200\n",
            "11/11 [==============================] - 0s 5ms/step - loss: 0.0142 - val_loss: 0.0072\n",
            "Epoch 35/200\n",
            "11/11 [==============================] - 0s 6ms/step - loss: 0.0140 - val_loss: 0.0072\n",
            "Epoch 36/200\n",
            "11/11 [==============================] - 0s 7ms/step - loss: 0.0139 - val_loss: 0.0072\n",
            "Epoch 37/200\n",
            "11/11 [==============================] - 0s 5ms/step - loss: 0.0138 - val_loss: 0.0071\n",
            "Epoch 38/200\n",
            "11/11 [==============================] - 0s 6ms/step - loss: 0.0137 - val_loss: 0.0071\n",
            "Epoch 39/200\n",
            "11/11 [==============================] - 0s 4ms/step - loss: 0.0136 - val_loss: 0.0070\n",
            "Epoch 40/200\n",
            "11/11 [==============================] - 0s 5ms/step - loss: 0.0136 - val_loss: 0.0069\n",
            "Epoch 41/200\n",
            "11/11 [==============================] - 0s 5ms/step - loss: 0.0135 - val_loss: 0.0069\n",
            "Epoch 42/200\n",
            "11/11 [==============================] - 0s 4ms/step - loss: 0.0134 - val_loss: 0.0069\n",
            "Epoch 43/200\n",
            "11/11 [==============================] - 0s 4ms/step - loss: 0.0133 - val_loss: 0.0068\n",
            "Epoch 44/200\n",
            "11/11 [==============================] - 0s 4ms/step - loss: 0.0133 - val_loss: 0.0067\n",
            "Epoch 45/200\n",
            "11/11 [==============================] - 0s 5ms/step - loss: 0.0133 - val_loss: 0.0067\n",
            "Epoch 46/200\n",
            "11/11 [==============================] - 0s 5ms/step - loss: 0.0131 - val_loss: 0.0066\n",
            "Epoch 47/200\n",
            "11/11 [==============================] - 0s 5ms/step - loss: 0.0131 - val_loss: 0.0066\n",
            "Epoch 48/200\n",
            "11/11 [==============================] - 0s 5ms/step - loss: 0.0131 - val_loss: 0.0065\n",
            "Epoch 49/200\n",
            "11/11 [==============================] - 0s 5ms/step - loss: 0.0130 - val_loss: 0.0065\n",
            "Epoch 50/200\n",
            "11/11 [==============================] - 0s 4ms/step - loss: 0.0130 - val_loss: 0.0065\n",
            "Epoch 51/200\n",
            "11/11 [==============================] - 0s 4ms/step - loss: 0.0129 - val_loss: 0.0065\n",
            "Epoch 52/200\n",
            "11/11 [==============================] - 0s 4ms/step - loss: 0.0128 - val_loss: 0.0064\n",
            "Epoch 53/200\n",
            "11/11 [==============================] - 0s 5ms/step - loss: 0.0127 - val_loss: 0.0063\n",
            "Epoch 54/200\n",
            "11/11 [==============================] - 0s 5ms/step - loss: 0.0128 - val_loss: 0.0063\n",
            "Epoch 55/200\n",
            "11/11 [==============================] - 0s 5ms/step - loss: 0.0127 - val_loss: 0.0063\n",
            "Epoch 56/200\n",
            "11/11 [==============================] - 0s 5ms/step - loss: 0.0125 - val_loss: 0.0063\n",
            "Epoch 57/200\n",
            "11/11 [==============================] - 0s 6ms/step - loss: 0.0125 - val_loss: 0.0062\n",
            "Epoch 58/200\n",
            "11/11 [==============================] - 0s 5ms/step - loss: 0.0125 - val_loss: 0.0062\n",
            "Epoch 59/200\n",
            "11/11 [==============================] - 0s 5ms/step - loss: 0.0125 - val_loss: 0.0061\n",
            "Epoch 60/200\n",
            "11/11 [==============================] - 0s 5ms/step - loss: 0.0124 - val_loss: 0.0061\n",
            "Epoch 61/200\n",
            "11/11 [==============================] - 0s 6ms/step - loss: 0.0124 - val_loss: 0.0061\n",
            "Epoch 62/200\n",
            "11/11 [==============================] - 0s 5ms/step - loss: 0.0124 - val_loss: 0.0060\n",
            "Epoch 63/200\n",
            "11/11 [==============================] - 0s 6ms/step - loss: 0.0123 - val_loss: 0.0060\n",
            "Epoch 64/200\n",
            "11/11 [==============================] - 0s 5ms/step - loss: 0.0123 - val_loss: 0.0060\n",
            "Epoch 65/200\n",
            "11/11 [==============================] - 0s 5ms/step - loss: 0.0123 - val_loss: 0.0060\n",
            "Epoch 66/200\n",
            "11/11 [==============================] - 0s 5ms/step - loss: 0.0121 - val_loss: 0.0060\n",
            "Epoch 67/200\n",
            "11/11 [==============================] - 0s 5ms/step - loss: 0.0121 - val_loss: 0.0059\n",
            "Epoch 68/200\n",
            "11/11 [==============================] - 0s 5ms/step - loss: 0.0121 - val_loss: 0.0059\n",
            "Epoch 69/200\n",
            "11/11 [==============================] - 0s 4ms/step - loss: 0.0121 - val_loss: 0.0059\n",
            "Epoch 70/200\n",
            "11/11 [==============================] - 0s 4ms/step - loss: 0.0119 - val_loss: 0.0059\n",
            "Epoch 71/200\n",
            "11/11 [==============================] - 0s 4ms/step - loss: 0.0119 - val_loss: 0.0059\n",
            "Epoch 72/200\n",
            "11/11 [==============================] - 0s 5ms/step - loss: 0.0119 - val_loss: 0.0059\n",
            "Epoch 73/200\n",
            "11/11 [==============================] - 0s 5ms/step - loss: 0.0118 - val_loss: 0.0058\n",
            "Epoch 74/200\n",
            "11/11 [==============================] - 0s 5ms/step - loss: 0.0118 - val_loss: 0.0058\n",
            "Epoch 75/200\n",
            "11/11 [==============================] - 0s 6ms/step - loss: 0.0118 - val_loss: 0.0058\n",
            "Epoch 76/200\n",
            "11/11 [==============================] - 0s 5ms/step - loss: 0.0117 - val_loss: 0.0058\n",
            "Epoch 77/200\n",
            "11/11 [==============================] - 0s 5ms/step - loss: 0.0116 - val_loss: 0.0058\n",
            "Epoch 78/200\n",
            "11/11 [==============================] - 0s 6ms/step - loss: 0.0116 - val_loss: 0.0058\n",
            "Epoch 79/200\n",
            "11/11 [==============================] - 0s 6ms/step - loss: 0.0115 - val_loss: 0.0058\n",
            "Epoch 80/200\n",
            "11/11 [==============================] - 0s 5ms/step - loss: 0.0115 - val_loss: 0.0058\n",
            "Epoch 81/200\n",
            "11/11 [==============================] - 0s 7ms/step - loss: 0.0115 - val_loss: 0.0058\n",
            "Epoch 82/200\n",
            "11/11 [==============================] - 0s 5ms/step - loss: 0.0114 - val_loss: 0.0058\n",
            "Epoch 83/200\n",
            "11/11 [==============================] - 0s 6ms/step - loss: 0.0114 - val_loss: 0.0058\n",
            "Epoch 84/200\n",
            "11/11 [==============================] - 0s 5ms/step - loss: 0.0114 - val_loss: 0.0058\n",
            "Epoch 85/200\n",
            "11/11 [==============================] - 0s 5ms/step - loss: 0.0114 - val_loss: 0.0058\n",
            "Epoch 86/200\n",
            "11/11 [==============================] - 0s 7ms/step - loss: 0.0114 - val_loss: 0.0058\n",
            "Epoch 87/200\n",
            "11/11 [==============================] - 0s 5ms/step - loss: 0.0113 - val_loss: 0.0058\n",
            "Epoch 88/200\n",
            "11/11 [==============================] - 0s 5ms/step - loss: 0.0112 - val_loss: 0.0058\n",
            "Epoch 89/200\n",
            "11/11 [==============================] - 0s 6ms/step - loss: 0.0112 - val_loss: 0.0058\n",
            "Epoch 90/200\n",
            "11/11 [==============================] - 0s 6ms/step - loss: 0.0112 - val_loss: 0.0058\n",
            "Epoch 91/200\n",
            "11/11 [==============================] - 0s 6ms/step - loss: 0.0111 - val_loss: 0.0057\n",
            "Epoch 92/200\n",
            "11/11 [==============================] - 0s 5ms/step - loss: 0.0111 - val_loss: 0.0058\n",
            "Epoch 93/200\n",
            "11/11 [==============================] - 0s 6ms/step - loss: 0.0111 - val_loss: 0.0058\n",
            "Epoch 94/200\n",
            "11/11 [==============================] - 0s 5ms/step - loss: 0.0111 - val_loss: 0.0057\n",
            "Epoch 95/200\n",
            "11/11 [==============================] - 0s 5ms/step - loss: 0.0111 - val_loss: 0.0057\n",
            "Epoch 96/200\n",
            "11/11 [==============================] - 0s 4ms/step - loss: 0.0110 - val_loss: 0.0058\n",
            "Epoch 97/200\n",
            "11/11 [==============================] - 0s 5ms/step - loss: 0.0109 - val_loss: 0.0058\n",
            "Epoch 98/200\n",
            "11/11 [==============================] - 0s 5ms/step - loss: 0.0109 - val_loss: 0.0058\n",
            "Epoch 99/200\n",
            "11/11 [==============================] - 0s 7ms/step - loss: 0.0109 - val_loss: 0.0058\n",
            "Epoch 100/200\n",
            "11/11 [==============================] - 0s 7ms/step - loss: 0.0109 - val_loss: 0.0057\n",
            "Epoch 101/200\n",
            "11/11 [==============================] - 0s 5ms/step - loss: 0.0109 - val_loss: 0.0057\n",
            "Epoch 102/200\n",
            "11/11 [==============================] - 0s 5ms/step - loss: 0.0108 - val_loss: 0.0057\n",
            "Epoch 103/200\n",
            "11/11 [==============================] - 0s 6ms/step - loss: 0.0107 - val_loss: 0.0057\n",
            "Epoch 104/200\n",
            "11/11 [==============================] - 0s 5ms/step - loss: 0.0107 - val_loss: 0.0058\n",
            "Epoch 105/200\n",
            "11/11 [==============================] - 0s 5ms/step - loss: 0.0107 - val_loss: 0.0058\n",
            "Epoch 106/200\n",
            "11/11 [==============================] - 0s 5ms/step - loss: 0.0107 - val_loss: 0.0057\n",
            "Epoch 107/200\n",
            "11/11 [==============================] - 0s 5ms/step - loss: 0.0107 - val_loss: 0.0057\n",
            "Epoch 108/200\n",
            "11/11 [==============================] - 0s 6ms/step - loss: 0.0107 - val_loss: 0.0057\n",
            "Epoch 109/200\n",
            "11/11 [==============================] - 0s 5ms/step - loss: 0.0107 - val_loss: 0.0057\n",
            "Epoch 110/200\n",
            "11/11 [==============================] - 0s 5ms/step - loss: 0.0106 - val_loss: 0.0057\n",
            "Epoch 111/200\n",
            "11/11 [==============================] - 0s 6ms/step - loss: 0.0106 - val_loss: 0.0057\n",
            "Epoch 112/200\n",
            "11/11 [==============================] - 0s 5ms/step - loss: 0.0106 - val_loss: 0.0057\n",
            "Epoch 113/200\n",
            "11/11 [==============================] - 0s 6ms/step - loss: 0.0105 - val_loss: 0.0057\n",
            "Epoch 114/200\n",
            "11/11 [==============================] - 0s 5ms/step - loss: 0.0105 - val_loss: 0.0058\n",
            "Epoch 115/200\n",
            "11/11 [==============================] - 0s 5ms/step - loss: 0.0105 - val_loss: 0.0060\n",
            "Epoch 116/200\n",
            "11/11 [==============================] - 0s 5ms/step - loss: 0.0106 - val_loss: 0.0062\n",
            "Epoch 117/200\n",
            "11/11 [==============================] - 0s 5ms/step - loss: 0.0110 - val_loss: 0.0062\n",
            "Epoch 118/200\n",
            "11/11 [==============================] - 0s 5ms/step - loss: 0.0117 - val_loss: 0.0068\n",
            "Epoch 119/200\n",
            "11/11 [==============================] - 0s 5ms/step - loss: 0.0118 - val_loss: 0.0070\n",
            "Epoch 120/200\n",
            "11/11 [==============================] - 0s 6ms/step - loss: 0.0107 - val_loss: 0.0061\n",
            "Epoch 121/200\n",
            "11/11 [==============================] - 0s 6ms/step - loss: 0.0115 - val_loss: 0.0060\n",
            "Epoch 122/200\n",
            "11/11 [==============================] - 0s 5ms/step - loss: 0.0115 - val_loss: 0.0060\n",
            "Epoch 123/200\n",
            "11/11 [==============================] - 0s 5ms/step - loss: 0.0107 - val_loss: 0.0058\n",
            "Epoch 124/200\n",
            "11/11 [==============================] - 0s 6ms/step - loss: 0.0105 - val_loss: 0.0057\n",
            "Epoch 125/200\n",
            "11/11 [==============================] - 0s 5ms/step - loss: 0.0105 - val_loss: 0.0060\n",
            "Epoch 126/200\n",
            "11/11 [==============================] - 0s 5ms/step - loss: 0.0106 - val_loss: 0.0062\n",
            "Epoch 127/200\n",
            "11/11 [==============================] - 0s 5ms/step - loss: 0.0109 - val_loss: 0.0062\n",
            "Epoch 128/200\n",
            "11/11 [==============================] - 0s 5ms/step - loss: 0.0117 - val_loss: 0.0069\n",
            "Epoch 129/200\n",
            "11/11 [==============================] - 0s 6ms/step - loss: 0.0120 - val_loss: 0.0071\n",
            "Epoch 130/200\n",
            "11/11 [==============================] - 0s 5ms/step - loss: 0.0107 - val_loss: 0.0062\n",
            "Epoch 131/200\n",
            "11/11 [==============================] - 0s 5ms/step - loss: 0.0117 - val_loss: 0.0061\n",
            "Epoch 132/200\n",
            "11/11 [==============================] - 0s 6ms/step - loss: 0.0118 - val_loss: 0.0065\n",
            "Epoch 133/200\n",
            "11/11 [==============================] - 0s 4ms/step - loss: 0.0107 - val_loss: 0.0059\n",
            "Epoch 134/200\n",
            "11/11 [==============================] - 0s 5ms/step - loss: 0.0106 - val_loss: 0.0058\n",
            "Epoch 135/200\n",
            "11/11 [==============================] - 0s 7ms/step - loss: 0.0106 - val_loss: 0.0062\n",
            "Epoch 136/200\n",
            "11/11 [==============================] - 0s 6ms/step - loss: 0.0109 - val_loss: 0.0063\n",
            "Epoch 137/200\n",
            "11/11 [==============================] - 0s 6ms/step - loss: 0.0118 - val_loss: 0.0071\n",
            "Epoch 138/200\n",
            "11/11 [==============================] - 0s 6ms/step - loss: 0.0122 - val_loss: 0.0073\n",
            "Epoch 139/200\n",
            "11/11 [==============================] - 0s 6ms/step - loss: 0.0109 - val_loss: 0.0064\n",
            "Epoch 140/200\n",
            "11/11 [==============================] - 0s 5ms/step - loss: 0.0127 - val_loss: 0.0085\n",
            "Epoch 141/200\n",
            "11/11 [==============================] - 0s 5ms/step - loss: 0.0136 - val_loss: 0.0076\n",
            "Epoch 142/200\n",
            "11/11 [==============================] - 0s 5ms/step - loss: 0.0112 - val_loss: 0.0073\n",
            "Epoch 143/200\n",
            "11/11 [==============================] - 0s 5ms/step - loss: 0.0156 - val_loss: 0.0077\n",
            "Epoch 144/200\n",
            "11/11 [==============================] - 0s 5ms/step - loss: 0.0137 - val_loss: 0.0063\n",
            "Epoch 145/200\n",
            "11/11 [==============================] - 0s 6ms/step - loss: 0.0142 - val_loss: 0.0103\n",
            "Epoch 146/200\n",
            "11/11 [==============================] - 0s 5ms/step - loss: 0.0162 - val_loss: 0.0066\n",
            "Epoch 147/200\n",
            "11/11 [==============================] - 0s 4ms/step - loss: 0.0133 - val_loss: 0.0096\n",
            "Epoch 148/200\n",
            "11/11 [==============================] - 0s 4ms/step - loss: 0.0169 - val_loss: 0.0058\n",
            "Epoch 149/200\n",
            "11/11 [==============================] - 0s 7ms/step - loss: 0.0128 - val_loss: 0.0100\n",
            "Epoch 150/200\n",
            "11/11 [==============================] - 0s 6ms/step - loss: 0.0161 - val_loss: 0.0064\n",
            "Epoch 151/200\n",
            "11/11 [==============================] - 0s 5ms/step - loss: 0.0122 - val_loss: 0.0094\n",
            "Epoch 152/200\n",
            "11/11 [==============================] - 0s 8ms/step - loss: 0.0165 - val_loss: 0.0060\n",
            "Epoch 153/200\n",
            "11/11 [==============================] - 0s 5ms/step - loss: 0.0116 - val_loss: 0.0081\n",
            "Epoch 154/200\n",
            "11/11 [==============================] - 0s 5ms/step - loss: 0.0149 - val_loss: 0.0079\n",
            "Epoch 155/200\n",
            "11/11 [==============================] - 0s 5ms/step - loss: 0.0121 - val_loss: 0.0072\n",
            "Epoch 156/200\n",
            "11/11 [==============================] - 0s 5ms/step - loss: 0.0150 - val_loss: 0.0075\n",
            "Epoch 157/200\n",
            "11/11 [==============================] - 0s 5ms/step - loss: 0.0147 - val_loss: 0.0059\n",
            "Epoch 158/200\n",
            "11/11 [==============================] - 0s 6ms/step - loss: 0.0125 - val_loss: 0.0094\n",
            "Epoch 159/200\n",
            "11/11 [==============================] - 0s 5ms/step - loss: 0.0153 - val_loss: 0.0067\n",
            "Epoch 160/200\n",
            "11/11 [==============================] - 0s 5ms/step - loss: 0.0117 - val_loss: 0.0088\n",
            "Epoch 161/200\n",
            "11/11 [==============================] - 0s 6ms/step - loss: 0.0169 - val_loss: 0.0058\n",
            "Epoch 162/200\n",
            "11/11 [==============================] - 0s 5ms/step - loss: 0.0118 - val_loss: 0.0079\n",
            "Epoch 163/200\n",
            "11/11 [==============================] - 0s 4ms/step - loss: 0.0142 - val_loss: 0.0077\n",
            "Epoch 164/200\n",
            "11/11 [==============================] - 0s 5ms/step - loss: 0.0119 - val_loss: 0.0071\n",
            "Epoch 165/200\n",
            "11/11 [==============================] - 0s 6ms/step - loss: 0.0143 - val_loss: 0.0078\n",
            "Epoch 166/200\n",
            "11/11 [==============================] - 0s 5ms/step - loss: 0.0147 - val_loss: 0.0059\n",
            "Epoch 167/200\n",
            "11/11 [==============================] - 0s 5ms/step - loss: 0.0126 - val_loss: 0.0092\n",
            "Epoch 168/200\n",
            "11/11 [==============================] - 0s 6ms/step - loss: 0.0150 - val_loss: 0.0066\n",
            "Epoch 169/200\n",
            "11/11 [==============================] - 0s 4ms/step - loss: 0.0117 - val_loss: 0.0090\n",
            "Epoch 170/200\n",
            "11/11 [==============================] - 0s 5ms/step - loss: 0.0163 - val_loss: 0.0059\n",
            "Epoch 171/200\n",
            "11/11 [==============================] - 0s 5ms/step - loss: 0.0114 - val_loss: 0.0069\n",
            "Epoch 172/200\n",
            "11/11 [==============================] - 0s 6ms/step - loss: 0.0138 - val_loss: 0.0080\n",
            "Epoch 173/200\n",
            "11/11 [==============================] - 0s 5ms/step - loss: 0.0126 - val_loss: 0.0069\n",
            "Epoch 174/200\n",
            "11/11 [==============================] - 0s 5ms/step - loss: 0.0131 - val_loss: 0.0086\n",
            "Epoch 175/200\n",
            "11/11 [==============================] - 0s 5ms/step - loss: 0.0156 - val_loss: 0.0059\n",
            "Epoch 176/200\n",
            "11/11 [==============================] - 0s 6ms/step - loss: 0.0120 - val_loss: 0.0085\n",
            "Epoch 177/200\n",
            "11/11 [==============================] - 0s 6ms/step - loss: 0.0138 - val_loss: 0.0069\n",
            "Epoch 178/200\n",
            "11/11 [==============================] - 0s 6ms/step - loss: 0.0115 - val_loss: 0.0083\n",
            "Epoch 179/200\n",
            "11/11 [==============================] - 0s 7ms/step - loss: 0.0160 - val_loss: 0.0059\n",
            "Epoch 180/200\n",
            "11/11 [==============================] - 0s 4ms/step - loss: 0.0115 - val_loss: 0.0067\n",
            "Epoch 181/200\n",
            "11/11 [==============================] - 0s 6ms/step - loss: 0.0132 - val_loss: 0.0080\n",
            "Epoch 182/200\n",
            "11/11 [==============================] - 0s 6ms/step - loss: 0.0126 - val_loss: 0.0068\n",
            "Epoch 183/200\n",
            "11/11 [==============================] - 0s 7ms/step - loss: 0.0126 - val_loss: 0.0091\n",
            "Epoch 184/200\n",
            "11/11 [==============================] - 0s 5ms/step - loss: 0.0159 - val_loss: 0.0061\n",
            "Epoch 185/200\n",
            "11/11 [==============================] - 0s 5ms/step - loss: 0.0120 - val_loss: 0.0084\n",
            "Epoch 186/200\n",
            "11/11 [==============================] - 0s 5ms/step - loss: 0.0135 - val_loss: 0.0067\n",
            "Epoch 187/200\n",
            "11/11 [==============================] - 0s 7ms/step - loss: 0.0114 - val_loss: 0.0083\n",
            "Epoch 188/200\n",
            "11/11 [==============================] - 0s 6ms/step - loss: 0.0155 - val_loss: 0.0059\n",
            "Epoch 189/200\n",
            "11/11 [==============================] - 0s 6ms/step - loss: 0.0113 - val_loss: 0.0061\n",
            "Epoch 190/200\n",
            "11/11 [==============================] - 0s 5ms/step - loss: 0.0129 - val_loss: 0.0084\n",
            "Epoch 191/200\n",
            "11/11 [==============================] - 0s 6ms/step - loss: 0.0133 - val_loss: 0.0067\n",
            "Epoch 192/200\n",
            "11/11 [==============================] - 0s 5ms/step - loss: 0.0121 - val_loss: 0.0090\n",
            "Epoch 193/200\n",
            "11/11 [==============================] - 0s 6ms/step - loss: 0.0159 - val_loss: 0.0060\n",
            "Epoch 194/200\n",
            "11/11 [==============================] - 0s 6ms/step - loss: 0.0116 - val_loss: 0.0079\n",
            "Epoch 195/200\n",
            "11/11 [==============================] - 0s 6ms/step - loss: 0.0130 - val_loss: 0.0069\n",
            "Epoch 196/200\n",
            "11/11 [==============================] - 0s 5ms/step - loss: 0.0112 - val_loss: 0.0073\n",
            "Epoch 197/200\n",
            "11/11 [==============================] - 0s 4ms/step - loss: 0.0146 - val_loss: 0.0062\n",
            "Epoch 198/200\n",
            "11/11 [==============================] - 0s 5ms/step - loss: 0.0119 - val_loss: 0.0060\n",
            "Epoch 199/200\n",
            "11/11 [==============================] - 0s 6ms/step - loss: 0.0126 - val_loss: 0.0083\n",
            "Epoch 200/200\n",
            "11/11 [==============================] - 0s 5ms/step - loss: 0.0136 - val_loss: 0.0068\n"
          ],
          "name": "stdout"
        }
      ]
    },
    {
      "cell_type": "markdown",
      "metadata": {
        "id": "H2sTUddmYJuE"
      },
      "source": [
        "2.4 Show the Loss value of each prediction."
      ]
    },
    {
      "cell_type": "code",
      "metadata": {
        "colab": {
          "base_uri": "https://localhost:8080/",
          "height": 265
        },
        "id": "YC3mI7NYEmBt",
        "outputId": "5867710e-6da3-4641-b2da-7395ec64edce"
      },
      "source": [
        "plt.plot(history.history['loss'], label='train')\n",
        "plt.plot(history.history['val_loss'], label='test')\n",
        "plt.legend()\n",
        "plt.show()"
      ],
      "execution_count": 143,
      "outputs": [
        {
          "output_type": "display_data",
          "data": {
            "image/png": "[encoded data removed]",
            "text/plain": [
              "<Figure size 432x288 with 1 Axes>"
            ]
          },
          "metadata": {
            "tags": [],
            "needs_background": "light"
          }
        }
      ]
    },
    {
      "cell_type": "markdown",
      "metadata": {
        "id": "sgGG3N_tYV72"
      },
      "source": [
        "2.5 Predict the test_set"
      ]
    },
    {
      "cell_type": "code",
      "metadata": {
        "colab": {
          "base_uri": "https://localhost:8080/",
          "height": 283
        },
        "id": "jyWO0VvxEGmd",
        "outputId": "0a56dada-d907-40bb-a148-d25aad2c81f5"
      },
      "source": [
        "yhat = model.predict(testX) # Here yhat is the predicted value from the test set (y_pred)\n",
        "print(yhat.shape)\n",
        "\n",
        "plt.plot(yhat, label='predict')\n",
        "plt.plot(testY, label='true')\n",
        "plt.legend()\n",
        "plt.show()"
      ],
      "execution_count": 144,
      "outputs": [
        {
          "output_type": "stream",
          "text": [
            "(466, 1)\n"
          ],
          "name": "stdout"
        },
        {
          "output_type": "display_data",
          "data": {
            "image/png": "[encoded data removed]",
            "text/plain": [
              "<Figure size 432x288 with 1 Axes>"
            ]
          },
          "metadata": {
            "tags": [],
            "needs_background": "light"
          }
        }
      ]
    },
    {
      "cell_type": "markdown",
      "metadata": {
        "id": "qxR5HEuSYpR9"
      },
      "source": [
        "2.6 RMSE"
      ]
    },
    {
      "cell_type": "code",
      "metadata": {
        "colab": {
          "base_uri": "https://localhost:8080/"
        },
        "id": "Uy2j5E0hEGvJ",
        "outputId": "9adeabfa-bd3f-40a3-f65b-a1c54d22e32d"
      },
      "source": [
        "rmse = sqrt(mean_squared_error(testY, yhat))\n",
        "print('Test RMSE: %.5f' % rmse)"
      ],
      "execution_count": 145,
      "outputs": [
        {
          "output_type": "stream",
          "text": [
            "Test RMSE: 0.01208\n"
          ],
          "name": "stdout"
        }
      ]
    },
    {
      "cell_type": "markdown",
      "metadata": {
        "id": "CKmolyJmYs3h"
      },
      "source": [
        "3. Combine all attributes into one feature for prediction"
      ]
    },
    {
      "cell_type": "code",
      "metadata": {
        "id": "F7PFzH1GOBTK"
      },
      "source": [
        "data['Open'].replace(0, np.nan, inplace=True)\n",
        "data['Open'].fillna(method='ffill', inplace=True)"
      ],
      "execution_count": 146,
      "outputs": []
    },
    {
      "cell_type": "code",
      "metadata": {
        "id": "LRiPi7wOLi_g"
      },
      "source": [
        "values = data[['Open'] + ['Close'] + ['High'] + ['Low']].values"
      ],
      "execution_count": 147,
      "outputs": []
    },
    {
      "cell_type": "code",
      "metadata": {
        "id": "Fll1zPBnMKqN"
      },
      "source": [
        "value_nrom = MinMaxScaler(feature_range=(0, 1)).fit_transform(values)"
      ],
      "execution_count": 148,
      "outputs": []
    },
    {
      "cell_type": "code",
      "metadata": {
        "colab": {
          "base_uri": "https://localhost:8080/"
        },
        "id": "1SFStwT-MT7W",
        "outputId": "530fd21e-f45c-47b0-bc12-285c482934c0"
      },
      "source": [
        "value_nrom"
      ],
      "execution_count": 149,
      "outputs": [
        {
          "output_type": "execute_result",
          "data": {
            "text/plain": [
              "array([[0.93414266, 0.97135669, 0.96229853, 0.95678559],\n",
              "       [0.92067514, 0.93046635, 0.9174868 , 0.92948468],\n",
              "       [0.94931917, 0.91983195, 0.93465739, 0.94676396],\n",
              "       ...,\n",
              "       [0.02617238, 0.02442139, 0.02473892, 0.02469189],\n",
              "       [0.02285837, 0.02633856, 0.02493035, 0.02467387],\n",
              "       [0.02315649, 0.02276377, 0.02099578, 0.02398919]])"
            ]
          },
          "metadata": {
            "tags": []
          },
          "execution_count": 149
        }
      ]
    },
    {
      "cell_type": "code",
      "metadata": {
        "colab": {
          "base_uri": "https://localhost:8080/"
        },
        "id": "2gZJK0JKOeim",
        "outputId": "fc58d3f3-820e-4820-cc5a-e5bf8987d8d2"
      },
      "source": [
        "train_size = int(len(value_norm) * 0.7)\n",
        "test_size = len(value_norm) - train_size\n",
        "train, test = value_norm[0:train_size], value_norm[train_size:]\n",
        "print(len(train),len(test))"
      ],
      "execution_count": 150,
      "outputs": [
        {
          "output_type": "stream",
          "text": [
            "1089 467\n"
          ],
          "name": "stdout"
        }
      ]
    },
    {
      "cell_type": "code",
      "metadata": {
        "colab": {
          "base_uri": "https://localhost:8080/"
        },
        "id": "9f6yIo2XPTbh",
        "outputId": "3b1de0dd-bd60-4417-d6ef-61a388e61856"
      },
      "source": [
        "trainX, trainY = create_dataset(train)\n",
        "testX, testY = create_dataset(test)"
      ],
      "execution_count": 151,
      "outputs": [
        {
          "output_type": "stream",
          "text": [
            "1088 1088\n",
            "466 466\n"
          ],
          "name": "stdout"
        }
      ]
    },
    {
      "cell_type": "code",
      "metadata": {
        "colab": {
          "base_uri": "https://localhost:8080/"
        },
        "id": "9-ugYP0rPWXn",
        "outputId": "f6932ad0-ddd6-441b-8fcb-a443e600908c"
      },
      "source": [
        "trainX = np.reshape(trainX, (trainX.shape[0], 1, trainX.shape[1]))\n",
        "testX = np.reshape(testX, (testX.shape[0], 1, testX.shape[1]))\n",
        "\n",
        "print(trainX.shape)\n",
        "print(testX.shape)"
      ],
      "execution_count": 152,
      "outputs": [
        {
          "output_type": "stream",
          "text": [
            "(1088, 1, 1)\n",
            "(466, 1, 1)\n"
          ],
          "name": "stdout"
        }
      ]
    },
    {
      "cell_type": "code",
      "metadata": {
        "colab": {
          "base_uri": "https://localhost:8080/"
        },
        "id": "mAwfpdDLPbHr",
        "outputId": "84f8d75a-df65-44d6-e3b2-e7c16c91dc37"
      },
      "source": [
        "model = Sequential()\n",
        "model.add(LSTM(100, input_shape=(trainX.shape[1], trainX.shape[2])))\n",
        "model.add(Dense(1))\n",
        "model.compile(loss='mae', optimizer='adam')\n",
        "history = model.fit(trainX, trainY, epochs=200, batch_size=100, validation_data=(testX, testY), verbose=1, shuffle=False)"
      ],
      "execution_count": 153,
      "outputs": [
        {
          "output_type": "stream",
          "text": [
            "Epoch 1/200\n",
            "11/11 [==============================] - 2s 50ms/step - loss: 0.3283 - val_loss: 0.0938\n",
            "Epoch 2/200\n",
            "11/11 [==============================] - 0s 6ms/step - loss: 0.2707 - val_loss: 0.0829\n",
            "Epoch 3/200\n",
            "11/11 [==============================] - 0s 4ms/step - loss: 0.2314 - val_loss: 0.0765\n",
            "Epoch 4/200\n",
            "11/11 [==============================] - 0s 5ms/step - loss: 0.2083 - val_loss: 0.0745\n",
            "Epoch 5/200\n",
            "11/11 [==============================] - 0s 5ms/step - loss: 0.1986 - val_loss: 0.0726\n",
            "Epoch 6/200\n",
            "11/11 [==============================] - 0s 7ms/step - loss: 0.1943 - val_loss: 0.0709\n",
            "Epoch 7/200\n",
            "11/11 [==============================] - 0s 5ms/step - loss: 0.1919 - val_loss: 0.0694\n",
            "Epoch 8/200\n",
            "11/11 [==============================] - 0s 5ms/step - loss: 0.1885 - val_loss: 0.0676\n",
            "Epoch 9/200\n",
            "11/11 [==============================] - 0s 5ms/step - loss: 0.1836 - val_loss: 0.0656\n",
            "Epoch 10/200\n",
            "11/11 [==============================] - 0s 5ms/step - loss: 0.1778 - val_loss: 0.0635\n",
            "Epoch 11/200\n",
            "11/11 [==============================] - 0s 5ms/step - loss: 0.1715 - val_loss: 0.0614\n",
            "Epoch 12/200\n",
            "11/11 [==============================] - 0s 7ms/step - loss: 0.1653 - val_loss: 0.0593\n",
            "Epoch 13/200\n",
            "11/11 [==============================] - 0s 5ms/step - loss: 0.1592 - val_loss: 0.0571\n",
            "Epoch 14/200\n",
            "11/11 [==============================] - 0s 5ms/step - loss: 0.1531 - val_loss: 0.0549\n",
            "Epoch 15/200\n",
            "11/11 [==============================] - 0s 5ms/step - loss: 0.1466 - val_loss: 0.0526\n",
            "Epoch 16/200\n",
            "11/11 [==============================] - 0s 5ms/step - loss: 0.1396 - val_loss: 0.0501\n",
            "Epoch 17/200\n",
            "11/11 [==============================] - 0s 7ms/step - loss: 0.1325 - val_loss: 0.0476\n",
            "Epoch 18/200\n",
            "11/11 [==============================] - 0s 4ms/step - loss: 0.1250 - val_loss: 0.0449\n",
            "Epoch 19/200\n",
            "11/11 [==============================] - 0s 6ms/step - loss: 0.1171 - val_loss: 0.0421\n",
            "Epoch 20/200\n",
            "11/11 [==============================] - 0s 4ms/step - loss: 0.1088 - val_loss: 0.0391\n",
            "Epoch 21/200\n",
            "11/11 [==============================] - 0s 5ms/step - loss: 0.0999 - val_loss: 0.0360\n",
            "Epoch 22/200\n",
            "11/11 [==============================] - 0s 4ms/step - loss: 0.0904 - val_loss: 0.0327\n",
            "Epoch 23/200\n",
            "11/11 [==============================] - 0s 5ms/step - loss: 0.0801 - val_loss: 0.0292\n",
            "Epoch 24/200\n",
            "11/11 [==============================] - 0s 5ms/step - loss: 0.0695 - val_loss: 0.0255\n",
            "Epoch 25/200\n",
            "11/11 [==============================] - 0s 4ms/step - loss: 0.0584 - val_loss: 0.0216\n",
            "Epoch 26/200\n",
            "11/11 [==============================] - 0s 6ms/step - loss: 0.0466 - val_loss: 0.0177\n",
            "Epoch 27/200\n",
            "11/11 [==============================] - 0s 5ms/step - loss: 0.0343 - val_loss: 0.0136\n",
            "Epoch 28/200\n",
            "11/11 [==============================] - 0s 6ms/step - loss: 0.0215 - val_loss: 0.0098\n",
            "Epoch 29/200\n",
            "11/11 [==============================] - 0s 5ms/step - loss: 0.0146 - val_loss: 0.0078\n",
            "Epoch 30/200\n",
            "11/11 [==============================] - 0s 5ms/step - loss: 0.0139 - val_loss: 0.0069\n",
            "Epoch 31/200\n",
            "11/11 [==============================] - 0s 5ms/step - loss: 0.0147 - val_loss: 0.0069\n",
            "Epoch 32/200\n",
            "11/11 [==============================] - 0s 5ms/step - loss: 0.0148 - val_loss: 0.0070\n",
            "Epoch 33/200\n",
            "11/11 [==============================] - 0s 5ms/step - loss: 0.0144 - val_loss: 0.0071\n",
            "Epoch 34/200\n",
            "11/11 [==============================] - 0s 5ms/step - loss: 0.0142 - val_loss: 0.0071\n",
            "Epoch 35/200\n",
            "11/11 [==============================] - 0s 6ms/step - loss: 0.0140 - val_loss: 0.0071\n",
            "Epoch 36/200\n",
            "11/11 [==============================] - 0s 6ms/step - loss: 0.0139 - val_loss: 0.0071\n",
            "Epoch 37/200\n",
            "11/11 [==============================] - 0s 5ms/step - loss: 0.0137 - val_loss: 0.0070\n",
            "Epoch 38/200\n",
            "11/11 [==============================] - 0s 5ms/step - loss: 0.0136 - val_loss: 0.0070\n",
            "Epoch 39/200\n",
            "11/11 [==============================] - 0s 5ms/step - loss: 0.0136 - val_loss: 0.0069\n",
            "Epoch 40/200\n",
            "11/11 [==============================] - 0s 5ms/step - loss: 0.0135 - val_loss: 0.0069\n",
            "Epoch 41/200\n",
            "11/11 [==============================] - 0s 7ms/step - loss: 0.0134 - val_loss: 0.0068\n",
            "Epoch 42/200\n",
            "11/11 [==============================] - 0s 5ms/step - loss: 0.0133 - val_loss: 0.0068\n",
            "Epoch 43/200\n",
            "11/11 [==============================] - 0s 5ms/step - loss: 0.0134 - val_loss: 0.0067\n",
            "Epoch 44/200\n",
            "11/11 [==============================] - 0s 4ms/step - loss: 0.0133 - val_loss: 0.0067\n",
            "Epoch 45/200\n",
            "11/11 [==============================] - 0s 4ms/step - loss: 0.0132 - val_loss: 0.0066\n",
            "Epoch 46/200\n",
            "11/11 [==============================] - 0s 4ms/step - loss: 0.0132 - val_loss: 0.0066\n",
            "Epoch 47/200\n",
            "11/11 [==============================] - 0s 5ms/step - loss: 0.0131 - val_loss: 0.0065\n",
            "Epoch 48/200\n",
            "11/11 [==============================] - 0s 5ms/step - loss: 0.0131 - val_loss: 0.0064\n",
            "Epoch 49/200\n",
            "11/11 [==============================] - 0s 5ms/step - loss: 0.0131 - val_loss: 0.0064\n",
            "Epoch 50/200\n",
            "11/11 [==============================] - 0s 5ms/step - loss: 0.0130 - val_loss: 0.0064\n",
            "Epoch 51/200\n",
            "11/11 [==============================] - 0s 5ms/step - loss: 0.0129 - val_loss: 0.0064\n",
            "Epoch 52/200\n",
            "11/11 [==============================] - 0s 6ms/step - loss: 0.0128 - val_loss: 0.0064\n",
            "Epoch 53/200\n",
            "11/11 [==============================] - 0s 5ms/step - loss: 0.0128 - val_loss: 0.0063\n",
            "Epoch 54/200\n",
            "11/11 [==============================] - 0s 5ms/step - loss: 0.0127 - val_loss: 0.0063\n",
            "Epoch 55/200\n",
            "11/11 [==============================] - 0s 5ms/step - loss: 0.0126 - val_loss: 0.0062\n",
            "Epoch 56/200\n",
            "11/11 [==============================] - 0s 5ms/step - loss: 0.0127 - val_loss: 0.0062\n",
            "Epoch 57/200\n",
            "11/11 [==============================] - 0s 5ms/step - loss: 0.0126 - val_loss: 0.0062\n",
            "Epoch 58/200\n",
            "11/11 [==============================] - 0s 5ms/step - loss: 0.0125 - val_loss: 0.0062\n",
            "Epoch 59/200\n",
            "11/11 [==============================] - 0s 6ms/step - loss: 0.0124 - val_loss: 0.0061\n",
            "Epoch 60/200\n",
            "11/11 [==============================] - 0s 6ms/step - loss: 0.0124 - val_loss: 0.0061\n",
            "Epoch 61/200\n",
            "11/11 [==============================] - 0s 5ms/step - loss: 0.0125 - val_loss: 0.0060\n",
            "Epoch 62/200\n",
            "11/11 [==============================] - 0s 5ms/step - loss: 0.0124 - val_loss: 0.0060\n",
            "Epoch 63/200\n",
            "11/11 [==============================] - 0s 5ms/step - loss: 0.0123 - val_loss: 0.0060\n",
            "Epoch 64/200\n",
            "11/11 [==============================] - 0s 7ms/step - loss: 0.0123 - val_loss: 0.0059\n",
            "Epoch 65/200\n",
            "11/11 [==============================] - 0s 5ms/step - loss: 0.0123 - val_loss: 0.0060\n",
            "Epoch 66/200\n",
            "11/11 [==============================] - 0s 4ms/step - loss: 0.0122 - val_loss: 0.0059\n",
            "Epoch 67/200\n",
            "11/11 [==============================] - 0s 4ms/step - loss: 0.0121 - val_loss: 0.0059\n",
            "Epoch 68/200\n",
            "11/11 [==============================] - 0s 4ms/step - loss: 0.0121 - val_loss: 0.0059\n",
            "Epoch 69/200\n",
            "11/11 [==============================] - 0s 5ms/step - loss: 0.0120 - val_loss: 0.0059\n",
            "Epoch 70/200\n",
            "11/11 [==============================] - 0s 5ms/step - loss: 0.0120 - val_loss: 0.0059\n",
            "Epoch 71/200\n",
            "11/11 [==============================] - 0s 7ms/step - loss: 0.0119 - val_loss: 0.0059\n",
            "Epoch 72/200\n",
            "11/11 [==============================] - 0s 5ms/step - loss: 0.0119 - val_loss: 0.0058\n",
            "Epoch 73/200\n",
            "11/11 [==============================] - 0s 4ms/step - loss: 0.0119 - val_loss: 0.0058\n",
            "Epoch 74/200\n",
            "11/11 [==============================] - 0s 4ms/step - loss: 0.0118 - val_loss: 0.0058\n",
            "Epoch 75/200\n",
            "11/11 [==============================] - 0s 4ms/step - loss: 0.0117 - val_loss: 0.0058\n",
            "Epoch 76/200\n",
            "11/11 [==============================] - 0s 4ms/step - loss: 0.0117 - val_loss: 0.0058\n",
            "Epoch 77/200\n",
            "11/11 [==============================] - 0s 6ms/step - loss: 0.0117 - val_loss: 0.0058\n",
            "Epoch 78/200\n",
            "11/11 [==============================] - 0s 5ms/step - loss: 0.0117 - val_loss: 0.0058\n",
            "Epoch 79/200\n",
            "11/11 [==============================] - 0s 6ms/step - loss: 0.0116 - val_loss: 0.0058\n",
            "Epoch 80/200\n",
            "11/11 [==============================] - 0s 5ms/step - loss: 0.0115 - val_loss: 0.0058\n",
            "Epoch 81/200\n",
            "11/11 [==============================] - 0s 5ms/step - loss: 0.0115 - val_loss: 0.0058\n",
            "Epoch 82/200\n",
            "11/11 [==============================] - 0s 4ms/step - loss: 0.0115 - val_loss: 0.0058\n",
            "Epoch 83/200\n",
            "11/11 [==============================] - 0s 4ms/step - loss: 0.0114 - val_loss: 0.0058\n",
            "Epoch 84/200\n",
            "11/11 [==============================] - 0s 4ms/step - loss: 0.0114 - val_loss: 0.0058\n",
            "Epoch 85/200\n",
            "11/11 [==============================] - 0s 4ms/step - loss: 0.0114 - val_loss: 0.0058\n",
            "Epoch 86/200\n",
            "11/11 [==============================] - 0s 5ms/step - loss: 0.0113 - val_loss: 0.0058\n",
            "Epoch 87/200\n",
            "11/11 [==============================] - 0s 5ms/step - loss: 0.0113 - val_loss: 0.0058\n",
            "Epoch 88/200\n",
            "11/11 [==============================] - 0s 5ms/step - loss: 0.0113 - val_loss: 0.0058\n",
            "Epoch 89/200\n",
            "11/11 [==============================] - 0s 4ms/step - loss: 0.0113 - val_loss: 0.0058\n",
            "Epoch 90/200\n",
            "11/11 [==============================] - 0s 4ms/step - loss: 0.0112 - val_loss: 0.0058\n",
            "Epoch 91/200\n",
            "11/11 [==============================] - 0s 4ms/step - loss: 0.0111 - val_loss: 0.0058\n",
            "Epoch 92/200\n",
            "11/11 [==============================] - 0s 5ms/step - loss: 0.0111 - val_loss: 0.0058\n",
            "Epoch 93/200\n",
            "11/11 [==============================] - 0s 7ms/step - loss: 0.0111 - val_loss: 0.0058\n",
            "Epoch 94/200\n",
            "11/11 [==============================] - 0s 4ms/step - loss: 0.0111 - val_loss: 0.0057\n",
            "Epoch 95/200\n",
            "11/11 [==============================] - 0s 5ms/step - loss: 0.0111 - val_loss: 0.0058\n",
            "Epoch 96/200\n",
            "11/11 [==============================] - 0s 4ms/step - loss: 0.0109 - val_loss: 0.0058\n",
            "Epoch 97/200\n",
            "11/11 [==============================] - 0s 5ms/step - loss: 0.0109 - val_loss: 0.0058\n",
            "Epoch 98/200\n",
            "11/11 [==============================] - 0s 4ms/step - loss: 0.0110 - val_loss: 0.0058\n",
            "Epoch 99/200\n",
            "11/11 [==============================] - 0s 6ms/step - loss: 0.0110 - val_loss: 0.0057\n",
            "Epoch 100/200\n",
            "11/11 [==============================] - 0s 5ms/step - loss: 0.0110 - val_loss: 0.0057\n",
            "Epoch 101/200\n",
            "11/11 [==============================] - 0s 5ms/step - loss: 0.0108 - val_loss: 0.0058\n",
            "Epoch 102/200\n",
            "11/11 [==============================] - 0s 6ms/step - loss: 0.0108 - val_loss: 0.0058\n",
            "Epoch 103/200\n",
            "11/11 [==============================] - 0s 6ms/step - loss: 0.0108 - val_loss: 0.0058\n",
            "Epoch 104/200\n",
            "11/11 [==============================] - 0s 5ms/step - loss: 0.0107 - val_loss: 0.0058\n",
            "Epoch 105/200\n",
            "11/11 [==============================] - 0s 5ms/step - loss: 0.0107 - val_loss: 0.0058\n",
            "Epoch 106/200\n",
            "11/11 [==============================] - 0s 4ms/step - loss: 0.0107 - val_loss: 0.0058\n",
            "Epoch 107/200\n",
            "11/11 [==============================] - 0s 5ms/step - loss: 0.0107 - val_loss: 0.0058\n",
            "Epoch 108/200\n",
            "11/11 [==============================] - 0s 4ms/step - loss: 0.0107 - val_loss: 0.0058\n",
            "Epoch 109/200\n",
            "11/11 [==============================] - 0s 5ms/step - loss: 0.0108 - val_loss: 0.0057\n",
            "Epoch 110/200\n",
            "11/11 [==============================] - 0s 5ms/step - loss: 0.0108 - val_loss: 0.0057\n",
            "Epoch 111/200\n",
            "11/11 [==============================] - 0s 4ms/step - loss: 0.0108 - val_loss: 0.0057\n",
            "Epoch 112/200\n",
            "11/11 [==============================] - 0s 5ms/step - loss: 0.0107 - val_loss: 0.0058\n",
            "Epoch 113/200\n",
            "11/11 [==============================] - 0s 6ms/step - loss: 0.0107 - val_loss: 0.0058\n",
            "Epoch 114/200\n",
            "11/11 [==============================] - 0s 5ms/step - loss: 0.0107 - val_loss: 0.0058\n",
            "Epoch 115/200\n",
            "11/11 [==============================] - 0s 5ms/step - loss: 0.0108 - val_loss: 0.0058\n",
            "Epoch 116/200\n",
            "11/11 [==============================] - 0s 6ms/step - loss: 0.0108 - val_loss: 0.0058\n",
            "Epoch 117/200\n",
            "11/11 [==============================] - 0s 5ms/step - loss: 0.0108 - val_loss: 0.0057\n",
            "Epoch 118/200\n",
            "11/11 [==============================] - 0s 5ms/step - loss: 0.0108 - val_loss: 0.0057\n",
            "Epoch 119/200\n",
            "11/11 [==============================] - 0s 5ms/step - loss: 0.0107 - val_loss: 0.0057\n",
            "Epoch 120/200\n",
            "11/11 [==============================] - 0s 5ms/step - loss: 0.0106 - val_loss: 0.0058\n",
            "Epoch 121/200\n",
            "11/11 [==============================] - 0s 5ms/step - loss: 0.0107 - val_loss: 0.0057\n",
            "Epoch 122/200\n",
            "11/11 [==============================] - 0s 5ms/step - loss: 0.0107 - val_loss: 0.0057\n",
            "Epoch 123/200\n",
            "11/11 [==============================] - 0s 6ms/step - loss: 0.0107 - val_loss: 0.0058\n",
            "Epoch 124/200\n",
            "11/11 [==============================] - 0s 5ms/step - loss: 0.0107 - val_loss: 0.0057\n",
            "Epoch 125/200\n",
            "11/11 [==============================] - 0s 5ms/step - loss: 0.0107 - val_loss: 0.0057\n",
            "Epoch 126/200\n",
            "11/11 [==============================] - 0s 5ms/step - loss: 0.0107 - val_loss: 0.0057\n",
            "Epoch 127/200\n",
            "11/11 [==============================] - 0s 5ms/step - loss: 0.0107 - val_loss: 0.0057\n",
            "Epoch 128/200\n",
            "11/11 [==============================] - 0s 5ms/step - loss: 0.0107 - val_loss: 0.0057\n",
            "Epoch 129/200\n",
            "11/11 [==============================] - 0s 5ms/step - loss: 0.0106 - val_loss: 0.0057\n",
            "Epoch 130/200\n",
            "11/11 [==============================] - 0s 5ms/step - loss: 0.0106 - val_loss: 0.0058\n",
            "Epoch 131/200\n",
            "11/11 [==============================] - 0s 5ms/step - loss: 0.0107 - val_loss: 0.0058\n",
            "Epoch 132/200\n",
            "11/11 [==============================] - 0s 5ms/step - loss: 0.0107 - val_loss: 0.0058\n",
            "Epoch 133/200\n",
            "11/11 [==============================] - 0s 6ms/step - loss: 0.0107 - val_loss: 0.0057\n",
            "Epoch 134/200\n",
            "11/11 [==============================] - 0s 4ms/step - loss: 0.0107 - val_loss: 0.0057\n",
            "Epoch 135/200\n",
            "11/11 [==============================] - 0s 5ms/step - loss: 0.0107 - val_loss: 0.0057\n",
            "Epoch 136/200\n",
            "11/11 [==============================] - 0s 5ms/step - loss: 0.0107 - val_loss: 0.0057\n",
            "Epoch 137/200\n",
            "11/11 [==============================] - 0s 4ms/step - loss: 0.0107 - val_loss: 0.0057\n",
            "Epoch 138/200\n",
            "11/11 [==============================] - 0s 4ms/step - loss: 0.0107 - val_loss: 0.0057\n",
            "Epoch 139/200\n",
            "11/11 [==============================] - 0s 5ms/step - loss: 0.0107 - val_loss: 0.0057\n",
            "Epoch 140/200\n",
            "11/11 [==============================] - 0s 5ms/step - loss: 0.0107 - val_loss: 0.0057\n",
            "Epoch 141/200\n",
            "11/11 [==============================] - 0s 5ms/step - loss: 0.0107 - val_loss: 0.0057\n",
            "Epoch 142/200\n",
            "11/11 [==============================] - 0s 5ms/step - loss: 0.0107 - val_loss: 0.0058\n",
            "Epoch 143/200\n",
            "11/11 [==============================] - 0s 6ms/step - loss: 0.0107 - val_loss: 0.0058\n",
            "Epoch 144/200\n",
            "11/11 [==============================] - 0s 5ms/step - loss: 0.0107 - val_loss: 0.0058\n",
            "Epoch 145/200\n",
            "11/11 [==============================] - 0s 5ms/step - loss: 0.0108 - val_loss: 0.0059\n",
            "Epoch 146/200\n",
            "11/11 [==============================] - 0s 4ms/step - loss: 0.0108 - val_loss: 0.0059\n",
            "Epoch 147/200\n",
            "11/11 [==============================] - 0s 4ms/step - loss: 0.0109 - val_loss: 0.0059\n",
            "Epoch 148/200\n",
            "11/11 [==============================] - 0s 4ms/step - loss: 0.0110 - val_loss: 0.0059\n",
            "Epoch 149/200\n",
            "11/11 [==============================] - 0s 4ms/step - loss: 0.0110 - val_loss: 0.0058\n",
            "Epoch 150/200\n",
            "11/11 [==============================] - 0s 6ms/step - loss: 0.0109 - val_loss: 0.0059\n",
            "Epoch 151/200\n",
            "11/11 [==============================] - 0s 6ms/step - loss: 0.0110 - val_loss: 0.0059\n",
            "Epoch 152/200\n",
            "11/11 [==============================] - 0s 5ms/step - loss: 0.0111 - val_loss: 0.0059\n",
            "Epoch 153/200\n",
            "11/11 [==============================] - 0s 5ms/step - loss: 0.0111 - val_loss: 0.0059\n",
            "Epoch 154/200\n",
            "11/11 [==============================] - 0s 5ms/step - loss: 0.0111 - val_loss: 0.0058\n",
            "Epoch 155/200\n",
            "11/11 [==============================] - 0s 5ms/step - loss: 0.0109 - val_loss: 0.0058\n",
            "Epoch 156/200\n",
            "11/11 [==============================] - 0s 5ms/step - loss: 0.0109 - val_loss: 0.0059\n",
            "Epoch 157/200\n",
            "11/11 [==============================] - 0s 6ms/step - loss: 0.0110 - val_loss: 0.0058\n",
            "Epoch 158/200\n",
            "11/11 [==============================] - 0s 5ms/step - loss: 0.0109 - val_loss: 0.0059\n",
            "Epoch 159/200\n",
            "11/11 [==============================] - 0s 5ms/step - loss: 0.0110 - val_loss: 0.0059\n",
            "Epoch 160/200\n",
            "11/11 [==============================] - 0s 5ms/step - loss: 0.0110 - val_loss: 0.0059\n",
            "Epoch 161/200\n",
            "11/11 [==============================] - 0s 5ms/step - loss: 0.0110 - val_loss: 0.0059\n",
            "Epoch 162/200\n",
            "11/11 [==============================] - 0s 5ms/step - loss: 0.0111 - val_loss: 0.0059\n",
            "Epoch 163/200\n",
            "11/11 [==============================] - 0s 4ms/step - loss: 0.0111 - val_loss: 0.0058\n",
            "Epoch 164/200\n",
            "11/11 [==============================] - 0s 5ms/step - loss: 0.0109 - val_loss: 0.0058\n",
            "Epoch 165/200\n",
            "11/11 [==============================] - 0s 6ms/step - loss: 0.0110 - val_loss: 0.0059\n",
            "Epoch 166/200\n",
            "11/11 [==============================] - 0s 5ms/step - loss: 0.0110 - val_loss: 0.0059\n",
            "Epoch 167/200\n",
            "11/11 [==============================] - 0s 5ms/step - loss: 0.0110 - val_loss: 0.0058\n",
            "Epoch 168/200\n",
            "11/11 [==============================] - 0s 5ms/step - loss: 0.0110 - val_loss: 0.0059\n",
            "Epoch 169/200\n",
            "11/11 [==============================] - 0s 5ms/step - loss: 0.0110 - val_loss: 0.0060\n",
            "Epoch 170/200\n",
            "11/11 [==============================] - 0s 5ms/step - loss: 0.0112 - val_loss: 0.0061\n",
            "Epoch 171/200\n",
            "11/11 [==============================] - 0s 5ms/step - loss: 0.0111 - val_loss: 0.0061\n",
            "Epoch 172/200\n",
            "11/11 [==============================] - 0s 4ms/step - loss: 0.0110 - val_loss: 0.0058\n",
            "Epoch 173/200\n",
            "11/11 [==============================] - 0s 5ms/step - loss: 0.0108 - val_loss: 0.0058\n",
            "Epoch 174/200\n",
            "11/11 [==============================] - 0s 4ms/step - loss: 0.0108 - val_loss: 0.0058\n",
            "Epoch 175/200\n",
            "11/11 [==============================] - 0s 7ms/step - loss: 0.0108 - val_loss: 0.0058\n",
            "Epoch 176/200\n",
            "11/11 [==============================] - 0s 5ms/step - loss: 0.0108 - val_loss: 0.0058\n",
            "Epoch 177/200\n",
            "11/11 [==============================] - 0s 6ms/step - loss: 0.0108 - val_loss: 0.0058\n",
            "Epoch 178/200\n",
            "11/11 [==============================] - 0s 5ms/step - loss: 0.0109 - val_loss: 0.0058\n",
            "Epoch 179/200\n",
            "11/11 [==============================] - 0s 5ms/step - loss: 0.0109 - val_loss: 0.0059\n",
            "Epoch 180/200\n",
            "11/11 [==============================] - 0s 5ms/step - loss: 0.0110 - val_loss: 0.0059\n",
            "Epoch 181/200\n",
            "11/11 [==============================] - 0s 5ms/step - loss: 0.0110 - val_loss: 0.0059\n",
            "Epoch 182/200\n",
            "11/11 [==============================] - 0s 5ms/step - loss: 0.0111 - val_loss: 0.0060\n",
            "Epoch 183/200\n",
            "11/11 [==============================] - 0s 6ms/step - loss: 0.0112 - val_loss: 0.0061\n",
            "Epoch 184/200\n",
            "11/11 [==============================] - 0s 5ms/step - loss: 0.0114 - val_loss: 0.0069\n",
            "Epoch 185/200\n",
            "11/11 [==============================] - 0s 5ms/step - loss: 0.0113 - val_loss: 0.0062\n",
            "Epoch 186/200\n",
            "11/11 [==============================] - 0s 5ms/step - loss: 0.0109 - val_loss: 0.0059\n",
            "Epoch 187/200\n",
            "11/11 [==============================] - 0s 5ms/step - loss: 0.0110 - val_loss: 0.0063\n",
            "Epoch 188/200\n",
            "11/11 [==============================] - 0s 7ms/step - loss: 0.0113 - val_loss: 0.0068\n",
            "Epoch 189/200\n",
            "11/11 [==============================] - 0s 5ms/step - loss: 0.0122 - val_loss: 0.0064\n",
            "Epoch 190/200\n",
            "11/11 [==============================] - 0s 5ms/step - loss: 0.0144 - val_loss: 0.0091\n",
            "Epoch 191/200\n",
            "11/11 [==============================] - 0s 4ms/step - loss: 0.0137 - val_loss: 0.0073\n",
            "Epoch 192/200\n",
            "11/11 [==============================] - 0s 5ms/step - loss: 0.0120 - val_loss: 0.0077\n",
            "Epoch 193/200\n",
            "11/11 [==============================] - 0s 5ms/step - loss: 0.0146 - val_loss: 0.0093\n",
            "Epoch 194/200\n",
            "11/11 [==============================] - 0s 5ms/step - loss: 0.0127 - val_loss: 0.0076\n",
            "Epoch 195/200\n",
            "11/11 [==============================] - 0s 5ms/step - loss: 0.0186 - val_loss: 0.0088\n",
            "Epoch 196/200\n",
            "11/11 [==============================] - 0s 5ms/step - loss: 0.0162 - val_loss: 0.0072\n",
            "Epoch 197/200\n",
            "11/11 [==============================] - 0s 5ms/step - loss: 0.0152 - val_loss: 0.0112\n",
            "Epoch 198/200\n",
            "11/11 [==============================] - 0s 4ms/step - loss: 0.0188 - val_loss: 0.0064\n",
            "Epoch 199/200\n",
            "11/11 [==============================] - 0s 4ms/step - loss: 0.0139 - val_loss: 0.0099\n",
            "Epoch 200/200\n",
            "11/11 [==============================] - 0s 5ms/step - loss: 0.0176 - val_loss: 0.0067\n"
          ],
          "name": "stdout"
        }
      ]
    },
    {
      "cell_type": "code",
      "metadata": {
        "colab": {
          "base_uri": "https://localhost:8080/",
          "height": 265
        },
        "id": "l4jlRgfpPjUE",
        "outputId": "5b588b2a-76e6-4ace-fb59-6b47e07b5526"
      },
      "source": [
        "plt.plot(history.history['loss'], label='train')\n",
        "plt.plot(history.history['val_loss'], label='test')\n",
        "plt.legend()\n",
        "plt.show()"
      ],
      "execution_count": 154,
      "outputs": [
        {
          "output_type": "display_data",
          "data": {
            "image/png": "[encoded data removed]",
            "text/plain": [
              "<Figure size 432x288 with 1 Axes>"
            ]
          },
          "metadata": {
            "tags": [],
            "needs_background": "light"
          }
        }
      ]
    },
    {
      "cell_type": "code",
      "metadata": {
        "colab": {
          "base_uri": "https://localhost:8080/",
          "height": 283
        },
        "id": "wBvsrEKxPyTo",
        "outputId": "874b1eb3-7ae8-4961-c359-fd0cc019c815"
      },
      "source": [
        "yhat = model.predict(testX) # Here yhat is the predicted value from the test set (y_pred)\n",
        "print(yhat.shape)\n",
        "\n",
        "plt.plot(yhat, label='predict')\n",
        "plt.plot(testY, label='true')\n",
        "plt.legend()\n",
        "plt.show()"
      ],
      "execution_count": 155,
      "outputs": [
        {
          "output_type": "stream",
          "text": [
            "(466, 1)\n"
          ],
          "name": "stdout"
        },
        {
          "output_type": "display_data",
          "data": {
            "image/png": "[encoded data removed]",
            "text/plain": [
              "<Figure size 432x288 with 1 Axes>"
            ]
          },
          "metadata": {
            "tags": [],
            "needs_background": "light"
          }
        }
      ]
    },
    {
      "cell_type": "code",
      "metadata": {
        "colab": {
          "base_uri": "https://localhost:8080/"
        },
        "id": "Vo0a3xJSPycQ",
        "outputId": "840724b3-25a4-4c8c-8f07-97b231f9699c"
      },
      "source": [
        "rmse1 = sqrt(mean_squared_error(testY, yhat))\n",
        "print('Test RMSE: %.5f' % rmse)"
      ],
      "execution_count": 156,
      "outputs": [
        {
          "output_type": "stream",
          "text": [
            "Test RMSE: 0.01208\n"
          ],
          "name": "stdout"
        }
      ]
    },
    {
      "cell_type": "markdown",
      "metadata": {
        "id": "VNgwia0nZOlw"
      },
      "source": [
        "·LSTM with single feature of Close Price have RMSE of 0.1208.\n"
      ]
    },
    {
      "cell_type": "markdown",
      "metadata": {
        "id": "9emsxJhLaUDa"
      },
      "source": [
        "·LSTM with features of Open, High, Low and Close Price have RMSE of 0.1208.\n"
      ]
    },
    {
      "cell_type": "markdown",
      "metadata": {
        "id": "kIuSB9YWaV9N"
      },
      "source": [
        "In summary, the RMSE values of the above two methods are similar, but observing the Loss chart, it is found that the latter is more stable after epoch=100, so the latter is selected as the prediction method."
      ]
    }
  ]
}